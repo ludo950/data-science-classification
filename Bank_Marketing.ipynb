{
  "nbformat": 4,
  "nbformat_minor": 5,
  "metadata": {
    "kernelspec": {
      "display_name": "Python 3",
      "language": "python",
      "name": "python3"
    },
    "language_info": {
      "codemirror_mode": {
        "name": "ipython",
        "version": 3
      },
      "file_extension": ".py",
      "mimetype": "text/x-python",
      "name": "python",
      "nbconvert_exporter": "python",
      "pygments_lexer": "ipython3",
      "version": "3.8.5"
    },
    "colab": {
      "name": "Bank Marketing.ipynb",
      "provenance": [],
      "collapsed_sections": [],
      "include_colab_link": true
    },
    "accelerator": "GPU"
  },
  "cells": [
    {
      "cell_type": "markdown",
      "metadata": {
        "id": "view-in-github",
        "colab_type": "text"
      },
      "source": [
        "<a href=\"https://colab.research.google.com/github/ludo950/data-science-classification/blob/main/Bank_Marketing.ipynb\" target=\"_parent\"><img src=\"https://colab.research.google.com/assets/colab-badge.svg\" alt=\"Open In Colab\"/></a>"
      ]
    },
    {
      "cell_type": "code",
      "metadata": {
        "id": "2fd5786a"
      },
      "source": [
        "import pandas as pd\n",
        "import numpy as np\n",
        "import seaborn as sns\n",
        "import matplotlib.pyplot as plt"
      ],
      "id": "2fd5786a",
      "execution_count": 1,
      "outputs": []
    },
    {
      "cell_type": "code",
      "metadata": {
        "colab": {
          "base_uri": "https://localhost:8080/"
        },
        "id": "ICSmR_LCmepA",
        "outputId": "78cc5a69-dd6d-43de-83f4-a29f95fdc31a"
      },
      "source": [
        "from google.colab import drive \n",
        "drive.mount('/content/gdrive')"
      ],
      "id": "ICSmR_LCmepA",
      "execution_count": 2,
      "outputs": [
        {
          "output_type": "stream",
          "text": [
            "Mounted at /content/gdrive\n"
          ],
          "name": "stdout"
        }
      ]
    },
    {
      "cell_type": "code",
      "metadata": {
        "id": "432462b5"
      },
      "source": [
        "df1=pd.read_csv('gdrive/My Drive/Colab Notebooks/Bank Marketing/bank.csv')"
      ],
      "id": "432462b5",
      "execution_count": 3,
      "outputs": []
    },
    {
      "cell_type": "markdown",
      "metadata": {
        "id": "963ea0a2"
      },
      "source": [
        "Attribute Information:\n",
        "\n",
        "Input variables:\n",
        "#### bank client data:\n",
        "1 - age (numeric)<br>\n",
        "2 - job : type of job (categorical: 'admin.','blue-collar','entrepreneur','housemaid','management','retired','self-employed','services','student','technician','unemployed','unknown')<br>\n",
        "3 - marital : marital status (categorical: 'divorced','married','single','unknown'; note: 'divorced' means divorced or widowed)<br>\n",
        "4 - education (categorical: 'basic.4y','basic.6y','basic.9y','high.school','illiterate','professional.course','university.degree','unknown')<br>\n",
        "5 - default: has credit in default? (categorical: 'no','yes','unknown')<br>\n",
        "6 - housing: has housing loan? (categorical: 'no','yes','unknown')<br>\n",
        "7 - loan: has personal loan? (categorical: 'no','yes','unknown')<br>\n",
        "#### related with the last contact of the current campaign:\n",
        "8 - contact: contact communication type (categorical: 'cellular','telephone')<br>\n",
        "9 - month: last contact month of year (categorical: 'jan', 'feb', 'mar', ..., 'nov', 'dec')<br>\n",
        "10 - day_of_week: last contact day of the week (categorical: 'mon','tue','wed','thu','fri')<br>\n",
        "11 - duration: last contact duration, in seconds (numeric). Important note: this attribute highly affects the output target (e.g., if duration=0 then y='no'). Yet, the duration is not known before a call is performed. Also, after the end of the call y is obviously known. Thus, this input should only be included for benchmark purposes and should be discarded if the intention is to have a realistic predictive model.<br>\n",
        "#### other attributes:\n",
        "12 - campaign: number of contacts performed during this campaign and for this client (numeric, includes last contact)<br>\n",
        "13 - pdays: number of days that passed by after the client was last contacted from a previous campaign (numeric; 999 means client was not previously contacted)<br>\n",
        "14 - previous: number of contacts performed before this campaign and for this client (numeric)<br>\n",
        "15 - poutcome: outcome of the previous marketing campaign (categorical: 'failure','nonexistent','success')<br>\n",
        "\n",
        "Output variable (desired target):<br>\n",
        "21 - deposit - has the client subscribed a term deposit? (binary: 'yes','no')<br>\n",
        "\n"
      ],
      "id": "963ea0a2"
    },
    {
      "cell_type": "code",
      "metadata": {
        "colab": {
          "base_uri": "https://localhost:8080/",
          "height": 206
        },
        "id": "fb3b86b7",
        "outputId": "2b67c907-897f-40f5-c80c-37b2a97065e6"
      },
      "source": [
        "df1.head()"
      ],
      "id": "fb3b86b7",
      "execution_count": 4,
      "outputs": [
        {
          "output_type": "execute_result",
          "data": {
            "text/html": [
              "<div>\n",
              "<style scoped>\n",
              "    .dataframe tbody tr th:only-of-type {\n",
              "        vertical-align: middle;\n",
              "    }\n",
              "\n",
              "    .dataframe tbody tr th {\n",
              "        vertical-align: top;\n",
              "    }\n",
              "\n",
              "    .dataframe thead th {\n",
              "        text-align: right;\n",
              "    }\n",
              "</style>\n",
              "<table border=\"1\" class=\"dataframe\">\n",
              "  <thead>\n",
              "    <tr style=\"text-align: right;\">\n",
              "      <th></th>\n",
              "      <th>age</th>\n",
              "      <th>job</th>\n",
              "      <th>marital</th>\n",
              "      <th>education</th>\n",
              "      <th>default</th>\n",
              "      <th>balance</th>\n",
              "      <th>housing</th>\n",
              "      <th>loan</th>\n",
              "      <th>contact</th>\n",
              "      <th>day</th>\n",
              "      <th>month</th>\n",
              "      <th>duration</th>\n",
              "      <th>campaign</th>\n",
              "      <th>pdays</th>\n",
              "      <th>previous</th>\n",
              "      <th>poutcome</th>\n",
              "      <th>deposit</th>\n",
              "    </tr>\n",
              "  </thead>\n",
              "  <tbody>\n",
              "    <tr>\n",
              "      <th>0</th>\n",
              "      <td>59</td>\n",
              "      <td>admin.</td>\n",
              "      <td>married</td>\n",
              "      <td>secondary</td>\n",
              "      <td>no</td>\n",
              "      <td>2343</td>\n",
              "      <td>yes</td>\n",
              "      <td>no</td>\n",
              "      <td>unknown</td>\n",
              "      <td>5</td>\n",
              "      <td>may</td>\n",
              "      <td>1042</td>\n",
              "      <td>1</td>\n",
              "      <td>-1</td>\n",
              "      <td>0</td>\n",
              "      <td>unknown</td>\n",
              "      <td>yes</td>\n",
              "    </tr>\n",
              "    <tr>\n",
              "      <th>1</th>\n",
              "      <td>56</td>\n",
              "      <td>admin.</td>\n",
              "      <td>married</td>\n",
              "      <td>secondary</td>\n",
              "      <td>no</td>\n",
              "      <td>45</td>\n",
              "      <td>no</td>\n",
              "      <td>no</td>\n",
              "      <td>unknown</td>\n",
              "      <td>5</td>\n",
              "      <td>may</td>\n",
              "      <td>1467</td>\n",
              "      <td>1</td>\n",
              "      <td>-1</td>\n",
              "      <td>0</td>\n",
              "      <td>unknown</td>\n",
              "      <td>yes</td>\n",
              "    </tr>\n",
              "    <tr>\n",
              "      <th>2</th>\n",
              "      <td>41</td>\n",
              "      <td>technician</td>\n",
              "      <td>married</td>\n",
              "      <td>secondary</td>\n",
              "      <td>no</td>\n",
              "      <td>1270</td>\n",
              "      <td>yes</td>\n",
              "      <td>no</td>\n",
              "      <td>unknown</td>\n",
              "      <td>5</td>\n",
              "      <td>may</td>\n",
              "      <td>1389</td>\n",
              "      <td>1</td>\n",
              "      <td>-1</td>\n",
              "      <td>0</td>\n",
              "      <td>unknown</td>\n",
              "      <td>yes</td>\n",
              "    </tr>\n",
              "    <tr>\n",
              "      <th>3</th>\n",
              "      <td>55</td>\n",
              "      <td>services</td>\n",
              "      <td>married</td>\n",
              "      <td>secondary</td>\n",
              "      <td>no</td>\n",
              "      <td>2476</td>\n",
              "      <td>yes</td>\n",
              "      <td>no</td>\n",
              "      <td>unknown</td>\n",
              "      <td>5</td>\n",
              "      <td>may</td>\n",
              "      <td>579</td>\n",
              "      <td>1</td>\n",
              "      <td>-1</td>\n",
              "      <td>0</td>\n",
              "      <td>unknown</td>\n",
              "      <td>yes</td>\n",
              "    </tr>\n",
              "    <tr>\n",
              "      <th>4</th>\n",
              "      <td>54</td>\n",
              "      <td>admin.</td>\n",
              "      <td>married</td>\n",
              "      <td>tertiary</td>\n",
              "      <td>no</td>\n",
              "      <td>184</td>\n",
              "      <td>no</td>\n",
              "      <td>no</td>\n",
              "      <td>unknown</td>\n",
              "      <td>5</td>\n",
              "      <td>may</td>\n",
              "      <td>673</td>\n",
              "      <td>2</td>\n",
              "      <td>-1</td>\n",
              "      <td>0</td>\n",
              "      <td>unknown</td>\n",
              "      <td>yes</td>\n",
              "    </tr>\n",
              "  </tbody>\n",
              "</table>\n",
              "</div>"
            ],
            "text/plain": [
              "   age         job  marital  education  ... pdays  previous poutcome deposit\n",
              "0   59      admin.  married  secondary  ...    -1         0  unknown     yes\n",
              "1   56      admin.  married  secondary  ...    -1         0  unknown     yes\n",
              "2   41  technician  married  secondary  ...    -1         0  unknown     yes\n",
              "3   55    services  married  secondary  ...    -1         0  unknown     yes\n",
              "4   54      admin.  married   tertiary  ...    -1         0  unknown     yes\n",
              "\n",
              "[5 rows x 17 columns]"
            ]
          },
          "metadata": {
            "tags": []
          },
          "execution_count": 4
        }
      ]
    },
    {
      "cell_type": "markdown",
      "metadata": {
        "id": "a965d53c"
      },
      "source": [
        "we will create a copy called df of the original df1 dataset."
      ],
      "id": "a965d53c"
    },
    {
      "cell_type": "code",
      "metadata": {
        "id": "8eae0fa6"
      },
      "source": [
        "df=df1.copy()"
      ],
      "id": "8eae0fa6",
      "execution_count": 5,
      "outputs": []
    },
    {
      "cell_type": "code",
      "metadata": {
        "colab": {
          "base_uri": "https://localhost:8080/"
        },
        "id": "acf68ccb",
        "outputId": "087675e1-eb87-4208-a8bd-bf73b542f7d6"
      },
      "source": [
        "df.columns"
      ],
      "id": "acf68ccb",
      "execution_count": 6,
      "outputs": [
        {
          "output_type": "execute_result",
          "data": {
            "text/plain": [
              "Index(['age', 'job', 'marital', 'education', 'default', 'balance', 'housing',\n",
              "       'loan', 'contact', 'day', 'month', 'duration', 'campaign', 'pdays',\n",
              "       'previous', 'poutcome', 'deposit'],\n",
              "      dtype='object')"
            ]
          },
          "metadata": {
            "tags": []
          },
          "execution_count": 6
        }
      ]
    },
    {
      "cell_type": "code",
      "metadata": {
        "colab": {
          "base_uri": "https://localhost:8080/"
        },
        "id": "c844df85",
        "outputId": "81bdccdc-20b9-4529-b43a-5c1ffb84da30"
      },
      "source": [
        "df.info()"
      ],
      "id": "c844df85",
      "execution_count": 7,
      "outputs": [
        {
          "output_type": "stream",
          "text": [
            "<class 'pandas.core.frame.DataFrame'>\n",
            "RangeIndex: 11162 entries, 0 to 11161\n",
            "Data columns (total 17 columns):\n",
            " #   Column     Non-Null Count  Dtype \n",
            "---  ------     --------------  ----- \n",
            " 0   age        11162 non-null  int64 \n",
            " 1   job        11162 non-null  object\n",
            " 2   marital    11162 non-null  object\n",
            " 3   education  11162 non-null  object\n",
            " 4   default    11162 non-null  object\n",
            " 5   balance    11162 non-null  int64 \n",
            " 6   housing    11162 non-null  object\n",
            " 7   loan       11162 non-null  object\n",
            " 8   contact    11162 non-null  object\n",
            " 9   day        11162 non-null  int64 \n",
            " 10  month      11162 non-null  object\n",
            " 11  duration   11162 non-null  int64 \n",
            " 12  campaign   11162 non-null  int64 \n",
            " 13  pdays      11162 non-null  int64 \n",
            " 14  previous   11162 non-null  int64 \n",
            " 15  poutcome   11162 non-null  object\n",
            " 16  deposit    11162 non-null  object\n",
            "dtypes: int64(7), object(10)\n",
            "memory usage: 1.4+ MB\n"
          ],
          "name": "stdout"
        }
      ]
    },
    {
      "cell_type": "markdown",
      "metadata": {
        "id": "1ac4548e"
      },
      "source": [
        "There no missing values and there are a lot of categorical features in the data. They will be analyzed first and then encoded before the ML training."
      ],
      "id": "1ac4548e"
    },
    {
      "cell_type": "code",
      "metadata": {
        "colab": {
          "base_uri": "https://localhost:8080/",
          "height": 300
        },
        "id": "XlD0tXp3nI25",
        "outputId": "937643b9-9099-45f8-f7af-a23d4f7b3243"
      },
      "source": [
        "df.describe()"
      ],
      "id": "XlD0tXp3nI25",
      "execution_count": 8,
      "outputs": [
        {
          "output_type": "execute_result",
          "data": {
            "text/html": [
              "<div>\n",
              "<style scoped>\n",
              "    .dataframe tbody tr th:only-of-type {\n",
              "        vertical-align: middle;\n",
              "    }\n",
              "\n",
              "    .dataframe tbody tr th {\n",
              "        vertical-align: top;\n",
              "    }\n",
              "\n",
              "    .dataframe thead th {\n",
              "        text-align: right;\n",
              "    }\n",
              "</style>\n",
              "<table border=\"1\" class=\"dataframe\">\n",
              "  <thead>\n",
              "    <tr style=\"text-align: right;\">\n",
              "      <th></th>\n",
              "      <th>age</th>\n",
              "      <th>balance</th>\n",
              "      <th>day</th>\n",
              "      <th>duration</th>\n",
              "      <th>campaign</th>\n",
              "      <th>pdays</th>\n",
              "      <th>previous</th>\n",
              "    </tr>\n",
              "  </thead>\n",
              "  <tbody>\n",
              "    <tr>\n",
              "      <th>count</th>\n",
              "      <td>11162.000000</td>\n",
              "      <td>11162.000000</td>\n",
              "      <td>11162.000000</td>\n",
              "      <td>11162.000000</td>\n",
              "      <td>11162.000000</td>\n",
              "      <td>11162.000000</td>\n",
              "      <td>11162.000000</td>\n",
              "    </tr>\n",
              "    <tr>\n",
              "      <th>mean</th>\n",
              "      <td>41.231948</td>\n",
              "      <td>1528.538524</td>\n",
              "      <td>15.658036</td>\n",
              "      <td>371.993818</td>\n",
              "      <td>2.508421</td>\n",
              "      <td>51.330407</td>\n",
              "      <td>0.832557</td>\n",
              "    </tr>\n",
              "    <tr>\n",
              "      <th>std</th>\n",
              "      <td>11.913369</td>\n",
              "      <td>3225.413326</td>\n",
              "      <td>8.420740</td>\n",
              "      <td>347.128386</td>\n",
              "      <td>2.722077</td>\n",
              "      <td>108.758282</td>\n",
              "      <td>2.292007</td>\n",
              "    </tr>\n",
              "    <tr>\n",
              "      <th>min</th>\n",
              "      <td>18.000000</td>\n",
              "      <td>-6847.000000</td>\n",
              "      <td>1.000000</td>\n",
              "      <td>2.000000</td>\n",
              "      <td>1.000000</td>\n",
              "      <td>-1.000000</td>\n",
              "      <td>0.000000</td>\n",
              "    </tr>\n",
              "    <tr>\n",
              "      <th>25%</th>\n",
              "      <td>32.000000</td>\n",
              "      <td>122.000000</td>\n",
              "      <td>8.000000</td>\n",
              "      <td>138.000000</td>\n",
              "      <td>1.000000</td>\n",
              "      <td>-1.000000</td>\n",
              "      <td>0.000000</td>\n",
              "    </tr>\n",
              "    <tr>\n",
              "      <th>50%</th>\n",
              "      <td>39.000000</td>\n",
              "      <td>550.000000</td>\n",
              "      <td>15.000000</td>\n",
              "      <td>255.000000</td>\n",
              "      <td>2.000000</td>\n",
              "      <td>-1.000000</td>\n",
              "      <td>0.000000</td>\n",
              "    </tr>\n",
              "    <tr>\n",
              "      <th>75%</th>\n",
              "      <td>49.000000</td>\n",
              "      <td>1708.000000</td>\n",
              "      <td>22.000000</td>\n",
              "      <td>496.000000</td>\n",
              "      <td>3.000000</td>\n",
              "      <td>20.750000</td>\n",
              "      <td>1.000000</td>\n",
              "    </tr>\n",
              "    <tr>\n",
              "      <th>max</th>\n",
              "      <td>95.000000</td>\n",
              "      <td>81204.000000</td>\n",
              "      <td>31.000000</td>\n",
              "      <td>3881.000000</td>\n",
              "      <td>63.000000</td>\n",
              "      <td>854.000000</td>\n",
              "      <td>58.000000</td>\n",
              "    </tr>\n",
              "  </tbody>\n",
              "</table>\n",
              "</div>"
            ],
            "text/plain": [
              "                age       balance  ...         pdays      previous\n",
              "count  11162.000000  11162.000000  ...  11162.000000  11162.000000\n",
              "mean      41.231948   1528.538524  ...     51.330407      0.832557\n",
              "std       11.913369   3225.413326  ...    108.758282      2.292007\n",
              "min       18.000000  -6847.000000  ...     -1.000000      0.000000\n",
              "25%       32.000000    122.000000  ...     -1.000000      0.000000\n",
              "50%       39.000000    550.000000  ...     -1.000000      0.000000\n",
              "75%       49.000000   1708.000000  ...     20.750000      1.000000\n",
              "max       95.000000  81204.000000  ...    854.000000     58.000000\n",
              "\n",
              "[8 rows x 7 columns]"
            ]
          },
          "metadata": {
            "tags": []
          },
          "execution_count": 8
        }
      ]
    },
    {
      "cell_type": "markdown",
      "metadata": {
        "id": "PyDNsnffnNC1"
      },
      "source": [
        "Some first insights on the data:<br>\n",
        "**Age:<br>**\n",
        "the medium age is 41 years old.\n",
        "the minimum age is 18 years old.\n",
        "the maximum age is 95 years old.\n",
        "<br>\n",
        "**Balance:<br>**\n",
        "The std deviation looks high (3225) compared to the mean (1528).<br>\n",
        "<br>\n",
        "Housing and deposit look balanced as their mean value is close to 0.5\n",
        "<br>\n",
        "From the column 'previous' we can see that most of the clients have been already contacted, since the value is close to 1 (0.8325)"
      ],
      "id": "PyDNsnffnNC1"
    },
    {
      "cell_type": "markdown",
      "metadata": {
        "id": "8011a9c5"
      },
      "source": [
        "As written in the dataset description, the duration column should be dropped since it includes an information which cannot be known before the call to the client."
      ],
      "id": "8011a9c5"
    },
    {
      "cell_type": "code",
      "metadata": {
        "id": "0UFi4dVhom1g"
      },
      "source": [
        "df=df.drop('duration', axis=1)"
      ],
      "id": "0UFi4dVhom1g",
      "execution_count": 9,
      "outputs": []
    },
    {
      "cell_type": "markdown",
      "metadata": {
        "id": "0UI8TW0upvIq"
      },
      "source": [
        "# Exploratory Data Analysis"
      ],
      "id": "0UI8TW0upvIq"
    },
    {
      "cell_type": "markdown",
      "metadata": {
        "id": "ZIbVBUtBMezu"
      },
      "source": [
        "To allow a better visualization, different palette will be chosen for the following plots."
      ],
      "id": "ZIbVBUtBMezu"
    },
    {
      "cell_type": "code",
      "metadata": {
        "id": "2Ep8C7vLMnMU"
      },
      "source": [
        "palette = {'yes':'red', 'no':'green'}"
      ],
      "id": "2Ep8C7vLMnMU",
      "execution_count": 58,
      "outputs": []
    },
    {
      "cell_type": "markdown",
      "metadata": {
        "id": "ibHgBhKcpAhs"
      },
      "source": [
        "We will analyze the relationship between the categorical features and the target variable, which is 'deposit'"
      ],
      "id": "ibHgBhKcpAhs"
    },
    {
      "cell_type": "code",
      "metadata": {
        "colab": {
          "base_uri": "https://localhost:8080/",
          "height": 361
        },
        "id": "KYoI_sh7p9hw",
        "outputId": "1da4e065-dfb0-4180-de1f-b2d388a3383c"
      },
      "source": [
        "fig, axs =plt.subplots(1,4,figsize=(25, 5));\n",
        "sns.countplot(x= 'job', hue = 'deposit', data=df, ax=axs[0]);\n",
        "sns.countplot(x= 'marital', hue = 'deposit', data=df, ax=axs[1]);\n",
        "sns.countplot(x= 'education', hue = 'deposit', data=df, ax=axs[2]);\n",
        "sns.countplot(x= 'default', hue = 'deposit', data=df, ax=axs[3]);\n",
        "axs[0].set_xticklabels(axs[0].get_xticklabels(), rotation=90);"
      ],
      "id": "KYoI_sh7p9hw",
      "execution_count": 61,
      "outputs": [
        {
          "output_type": "display_data",
          "data": {
            "image/png": "[encoded data removed]",
            "text/plain": [
              "<Figure size 1800x360 with 4 Axes>"
            ]
          },
          "metadata": {
            "tags": [],
            "needs_background": "light"
          }
        }
      ]
    },
    {
      "cell_type": "markdown",
      "metadata": {
        "id": "KBwl_BHdp9kx"
      },
      "source": [
        "From this plot we can say:<br>\n",
        "**Job:**\n",
        "*   The majority of retired clients or students accepted the deposit\n",
        "*   The majority of blue collars refused the deposit\n",
        "\n",
        "**Marital status:**\n",
        "\n",
        "*   Most of married clients refused the deposit\n",
        "*   Single clients tended to accept the deposit\n",
        "\n",
        "**Education:**\n",
        "\n",
        "*   Clients with a lower education (secondary and primary) tended to refuse the deposit\n",
        "*   Clients with higher education ('tertiary') tended to accept the offer\n",
        "\n",
        "\n",
        "\n"
      ],
      "id": "KBwl_BHdp9kx"
    },
    {
      "cell_type": "code",
      "metadata": {
        "colab": {
          "base_uri": "https://localhost:8080/",
          "height": 336
        },
        "id": "Y6RFxmgJ-RXa",
        "outputId": "59149511-2609-415a-8118-8be49af200f6"
      },
      "source": [
        "fig, axs =plt.subplots(1,3,figsize=(15, 5));\n",
        "sns.countplot(x= 'housing', hue = 'deposit', data=df, ax=axs[0]);\n",
        "sns.countplot(x= 'loan', hue = 'deposit', data=df, ax=axs[1]);\n",
        "sns.countplot(x= 'contact', hue = 'deposit', data=df, ax=axs[2]);"
      ],
      "id": "Y6RFxmgJ-RXa",
      "execution_count": 11,
      "outputs": [
        {
          "output_type": "display_data",
          "data": {
            "image/png": "[encoded data removed]",
            "text/plain": [
              "<Figure size 1080x360 with 3 Axes>"
            ]
          },
          "metadata": {
            "tags": [],
            "needs_background": "light"
          }
        }
      ]
    },
    {
      "cell_type": "markdown",
      "metadata": {
        "id": "4To7K3mD_-Du"
      },
      "source": [
        "From this plot we can say:<br>\n",
        "**Housing (Loan) and (Personal) Loan:**\n",
        "*   Clients without a loan tended to accept the deposit compared to clients with a loan\n",
        "\n",
        "**Marital status:**\n",
        "\n",
        "*   Most of married clients refused the deposit\n",
        "*   Single clients tended to accept the deposit\n",
        "\n",
        "**Contact:**\n",
        "\n",
        "*   Clients with a cellular phone tended to accept the deposit. This could be related to the status and/or the balance."
      ],
      "id": "4To7K3mD_-Du"
    },
    {
      "cell_type": "code",
      "metadata": {
        "colab": {
          "base_uri": "https://localhost:8080/",
          "height": 497
        },
        "id": "u9zRf0-Dp9pL",
        "outputId": "1ce73032-827e-40f2-ffb5-1bf8edf85b6c"
      },
      "source": [
        "fig, axs =plt.subplots(2,1,figsize=(15, 8));\n",
        "sns.countplot(x= 'day', hue = 'deposit', data=df, ax=axs[0]);\n",
        "sns.countplot(x= 'month', hue = 'deposit', data=df, ax=axs[1], order=['jan','feb','mar','apr','may','jun','aug','sep','oct','nov','dec']);"
      ],
      "id": "u9zRf0-Dp9pL",
      "execution_count": 12,
      "outputs": [
        {
          "output_type": "display_data",
          "data": {
            "image/png": "[encoded data removed]",
            "text/plain": [
              "<Figure size 1080x576 with 2 Axes>"
            ]
          },
          "metadata": {
            "tags": [],
            "needs_background": "light"
          }
        }
      ]
    },
    {
      "cell_type": "markdown",
      "metadata": {
        "id": "uxYmpSuwp9sU"
      },
      "source": [
        "There is not a clear pattern when alazying the deposit acceptance by day. <br>\n",
        "However, for what concerna the month plot instead:\n",
        "\n",
        "*   The majority of data regards the month of 'may'.\n",
        "*   In the months of March, april, september, october and december most of the clients accepted the deposit.\n"
      ],
      "id": "uxYmpSuwp9sU"
    },
    {
      "cell_type": "code",
      "metadata": {
        "colab": {
          "base_uri": "https://localhost:8080/",
          "height": 279
        },
        "id": "HPMKPj9ip9wI",
        "outputId": "8bd165b6-89cc-49a9-f97a-146e5504c55f"
      },
      "source": [
        "plt.figsize=(10, 10);\n",
        "sns.countplot(x= 'poutcome', hue = 'deposit', data=df);"
      ],
      "id": "HPMKPj9ip9wI",
      "execution_count": 13,
      "outputs": [
        {
          "output_type": "display_data",
          "data": {
            "image/png": "[encoded data removed]",
            "text/plain": [
              "<Figure size 432x288 with 1 Axes>"
            ]
          },
          "metadata": {
            "tags": [],
            "needs_background": "light"
          }
        }
      ]
    },
    {
      "cell_type": "markdown",
      "metadata": {
        "id": "585CIMwCp9zR"
      },
      "source": [
        "We can see that people who previously accepted the deposit tended to accept new offers."
      ],
      "id": "585CIMwCp9zR"
    },
    {
      "cell_type": "markdown",
      "metadata": {
        "id": "6t3HIubAOuvm"
      },
      "source": [
        "## General insights from the data"
      ],
      "id": "6t3HIubAOuvm"
    },
    {
      "cell_type": "markdown",
      "metadata": {
        "id": "ivT7O6d6Ouzj"
      },
      "source": [
        "Relationship between age and education:"
      ],
      "id": "ivT7O6d6Ouzj"
    },
    {
      "cell_type": "code",
      "metadata": {
        "colab": {
          "base_uri": "https://localhost:8080/",
          "height": 340
        },
        "id": "HcP-llGEOu3x",
        "outputId": "adee8c67-8d7a-4fd6-8cd8-44d818ff5e37"
      },
      "source": [
        "ax = sns.boxplot(x='job', y='age', data=df)\n",
        "ax.set_xticklabels(ax.get_xticklabels(), rotation=90);"
      ],
      "id": "HcP-llGEOu3x",
      "execution_count": 14,
      "outputs": [
        {
          "output_type": "display_data",
          "data": {
            "image/png": "[encoded data removed]",
            "text/plain": [
              "<Figure size 432x288 with 1 Axes>"
            ]
          },
          "metadata": {
            "tags": [],
            "needs_background": "light"
          }
        }
      ]
    },
    {
      "cell_type": "markdown",
      "metadata": {
        "id": "UlTtLLTLOu6-"
      },
      "source": [
        "As expected we can see that retired people tends to be older."
      ],
      "id": "UlTtLLTLOu6-"
    },
    {
      "cell_type": "markdown",
      "metadata": {
        "id": "0r3qZlV_Ou-D"
      },
      "source": [
        "Relationship between balance and age, "
      ],
      "id": "0r3qZlV_Ou-D"
    },
    {
      "cell_type": "code",
      "metadata": {
        "colab": {
          "base_uri": "https://localhost:8080/",
          "height": 383
        },
        "id": "kwe4U1xbUgJv",
        "outputId": "572fd5e5-63fb-4a8f-a5f1-f4fad5273579"
      },
      "source": [
        "ax = sns.relplot(x='age', y='balance', data=df)"
      ],
      "id": "kwe4U1xbUgJv",
      "execution_count": 15,
      "outputs": [
        {
          "output_type": "display_data",
          "data": {
            "image/png": "[encoded data removed]",
            "text/plain": [
              "<Figure size 360x360 with 1 Axes>"
            ]
          },
          "metadata": {
            "tags": [],
            "needs_background": "light"
          }
        }
      ]
    },
    {
      "cell_type": "markdown",
      "metadata": {
        "id": "H4Q5c0mMUgOF"
      },
      "source": [
        "This plot looks messy, we will create a categorical column for 'age'. Moreover, it could be a good idea to use a log transformation for the balance column."
      ],
      "id": "H4Q5c0mMUgOF"
    },
    {
      "cell_type": "code",
      "metadata": {
        "id": "ih_pdZDsbDkX"
      },
      "source": [
        "df['age_cate'] = pd.cut(df['age'], bins=[0, 35, 55, 70, float('Inf')], labels=['young', 'middle-age', 'older', ' old'])"
      ],
      "id": "ih_pdZDsbDkX",
      "execution_count": 16,
      "outputs": []
    },
    {
      "cell_type": "code",
      "metadata": {
        "colab": {
          "base_uri": "https://localhost:8080/",
          "height": 281
        },
        "id": "LOjfPhyobDoH",
        "outputId": "14c6bfe4-6755-4f9a-97a6-c3ed90f6485d"
      },
      "source": [
        "sns.boxplot(x='age_cate', y='balance', hue='deposit', data=df)\n",
        "plt.yscale('log')"
      ],
      "id": "LOjfPhyobDoH",
      "execution_count": 17,
      "outputs": [
        {
          "output_type": "display_data",
          "data": {
            "image/png": "[encoded data removed]",
            "text/plain": [
              "<Figure size 432x288 with 1 Axes>"
            ]
          },
          "metadata": {
            "tags": [],
            "needs_background": "light"
          }
        }
      ]
    },
    {
      "cell_type": "markdown",
      "metadata": {
        "id": "ackSNluybDrN"
      },
      "source": [
        "From this plot we can see that older people tends to have a higher bank balance and that people who accepted the deposit tends to have a higher balance compared to the clients who refused the deposit."
      ],
      "id": "ackSNluybDrN"
    },
    {
      "cell_type": "code",
      "metadata": {
        "colab": {
          "base_uri": "https://localhost:8080/",
          "height": 280
        },
        "id": "kNW3SZGCbDvV",
        "outputId": "3bf9551d-fbf8-470a-bc58-93a8a64d3e30"
      },
      "source": [
        "sns.boxplot(x='marital', y='balance', hue='deposit', data=df)\n",
        "plt.yscale('log')"
      ],
      "id": "kNW3SZGCbDvV",
      "execution_count": 18,
      "outputs": [
        {
          "output_type": "display_data",
          "data": {
            "image/png": "[encoded data removed]",
            "text/plain": [
              "<Figure size 432x288 with 1 Axes>"
            ]
          },
          "metadata": {
            "tags": [],
            "needs_background": "light"
          }
        }
      ]
    },
    {
      "cell_type": "markdown",
      "metadata": {
        "id": "Rn4og6hwbDyv"
      },
      "source": [
        "From this plot we can see that the distribution of divorced clients has a quite large IQR compared to married and single clients. This means that divorced clients have on average lower bank balance and have a quite high variance."
      ],
      "id": "Rn4og6hwbDyv"
    },
    {
      "cell_type": "code",
      "metadata": {
        "id": "YNVWYU-RwKLE"
      },
      "source": [
        "df=df.drop('age_cate', axis=1)"
      ],
      "id": "YNVWYU-RwKLE",
      "execution_count": 19,
      "outputs": []
    },
    {
      "cell_type": "markdown",
      "metadata": {
        "id": "K60uLWUWbEWk"
      },
      "source": [
        "# Data Preparation"
      ],
      "id": "K60uLWUWbEWk"
    },
    {
      "cell_type": "code",
      "metadata": {
        "colab": {
          "base_uri": "https://localhost:8080/"
        },
        "id": "ShEgGIhxmKja",
        "outputId": "36e70442-cd6e-4b56-d501-7d0f92dc0ab7"
      },
      "source": [
        "df.info()"
      ],
      "id": "ShEgGIhxmKja",
      "execution_count": 20,
      "outputs": [
        {
          "output_type": "stream",
          "text": [
            "<class 'pandas.core.frame.DataFrame'>\n",
            "RangeIndex: 11162 entries, 0 to 11161\n",
            "Data columns (total 16 columns):\n",
            " #   Column     Non-Null Count  Dtype \n",
            "---  ------     --------------  ----- \n",
            " 0   age        11162 non-null  int64 \n",
            " 1   job        11162 non-null  object\n",
            " 2   marital    11162 non-null  object\n",
            " 3   education  11162 non-null  object\n",
            " 4   default    11162 non-null  object\n",
            " 5   balance    11162 non-null  int64 \n",
            " 6   housing    11162 non-null  object\n",
            " 7   loan       11162 non-null  object\n",
            " 8   contact    11162 non-null  object\n",
            " 9   day        11162 non-null  int64 \n",
            " 10  month      11162 non-null  object\n",
            " 11  campaign   11162 non-null  int64 \n",
            " 12  pdays      11162 non-null  int64 \n",
            " 13  previous   11162 non-null  int64 \n",
            " 14  poutcome   11162 non-null  object\n",
            " 15  deposit    11162 non-null  object\n",
            "dtypes: int64(6), object(10)\n",
            "memory usage: 1.4+ MB\n"
          ],
          "name": "stdout"
        }
      ]
    },
    {
      "cell_type": "markdown",
      "metadata": {
        "id": "RBBynu-eksj1"
      },
      "source": [
        "Before creating the ML model, we need to prepare the data such as encode categorical features etc..."
      ],
      "id": "RBBynu-eksj1"
    },
    {
      "cell_type": "code",
      "metadata": {
        "id": "YMVr9lwBmRgn"
      },
      "source": [
        "encoded_df=df.copy()"
      ],
      "id": "YMVr9lwBmRgn",
      "execution_count": 21,
      "outputs": []
    },
    {
      "cell_type": "markdown",
      "metadata": {
        "id": "A7PstSEWPdxS"
      },
      "source": [
        "We create a copy of the the dataset where operations such as encodings will be performed."
      ],
      "id": "A7PstSEWPdxS"
    },
    {
      "cell_type": "code",
      "metadata": {
        "colab": {
          "base_uri": "https://localhost:8080/",
          "height": 206
        },
        "id": "XS0UmOFD34Sh",
        "outputId": "12edbd79-4510-412a-a273-3dc2b94d06da"
      },
      "source": [
        "encoded_df.head()"
      ],
      "id": "XS0UmOFD34Sh",
      "execution_count": 22,
      "outputs": [
        {
          "output_type": "execute_result",
          "data": {
            "text/html": [
              "<div>\n",
              "<style scoped>\n",
              "    .dataframe tbody tr th:only-of-type {\n",
              "        vertical-align: middle;\n",
              "    }\n",
              "\n",
              "    .dataframe tbody tr th {\n",
              "        vertical-align: top;\n",
              "    }\n",
              "\n",
              "    .dataframe thead th {\n",
              "        text-align: right;\n",
              "    }\n",
              "</style>\n",
              "<table border=\"1\" class=\"dataframe\">\n",
              "  <thead>\n",
              "    <tr style=\"text-align: right;\">\n",
              "      <th></th>\n",
              "      <th>age</th>\n",
              "      <th>job</th>\n",
              "      <th>marital</th>\n",
              "      <th>education</th>\n",
              "      <th>default</th>\n",
              "      <th>balance</th>\n",
              "      <th>housing</th>\n",
              "      <th>loan</th>\n",
              "      <th>contact</th>\n",
              "      <th>day</th>\n",
              "      <th>month</th>\n",
              "      <th>campaign</th>\n",
              "      <th>pdays</th>\n",
              "      <th>previous</th>\n",
              "      <th>poutcome</th>\n",
              "      <th>deposit</th>\n",
              "    </tr>\n",
              "  </thead>\n",
              "  <tbody>\n",
              "    <tr>\n",
              "      <th>0</th>\n",
              "      <td>59</td>\n",
              "      <td>admin.</td>\n",
              "      <td>married</td>\n",
              "      <td>secondary</td>\n",
              "      <td>no</td>\n",
              "      <td>2343</td>\n",
              "      <td>yes</td>\n",
              "      <td>no</td>\n",
              "      <td>unknown</td>\n",
              "      <td>5</td>\n",
              "      <td>may</td>\n",
              "      <td>1</td>\n",
              "      <td>-1</td>\n",
              "      <td>0</td>\n",
              "      <td>unknown</td>\n",
              "      <td>yes</td>\n",
              "    </tr>\n",
              "    <tr>\n",
              "      <th>1</th>\n",
              "      <td>56</td>\n",
              "      <td>admin.</td>\n",
              "      <td>married</td>\n",
              "      <td>secondary</td>\n",
              "      <td>no</td>\n",
              "      <td>45</td>\n",
              "      <td>no</td>\n",
              "      <td>no</td>\n",
              "      <td>unknown</td>\n",
              "      <td>5</td>\n",
              "      <td>may</td>\n",
              "      <td>1</td>\n",
              "      <td>-1</td>\n",
              "      <td>0</td>\n",
              "      <td>unknown</td>\n",
              "      <td>yes</td>\n",
              "    </tr>\n",
              "    <tr>\n",
              "      <th>2</th>\n",
              "      <td>41</td>\n",
              "      <td>technician</td>\n",
              "      <td>married</td>\n",
              "      <td>secondary</td>\n",
              "      <td>no</td>\n",
              "      <td>1270</td>\n",
              "      <td>yes</td>\n",
              "      <td>no</td>\n",
              "      <td>unknown</td>\n",
              "      <td>5</td>\n",
              "      <td>may</td>\n",
              "      <td>1</td>\n",
              "      <td>-1</td>\n",
              "      <td>0</td>\n",
              "      <td>unknown</td>\n",
              "      <td>yes</td>\n",
              "    </tr>\n",
              "    <tr>\n",
              "      <th>3</th>\n",
              "      <td>55</td>\n",
              "      <td>services</td>\n",
              "      <td>married</td>\n",
              "      <td>secondary</td>\n",
              "      <td>no</td>\n",
              "      <td>2476</td>\n",
              "      <td>yes</td>\n",
              "      <td>no</td>\n",
              "      <td>unknown</td>\n",
              "      <td>5</td>\n",
              "      <td>may</td>\n",
              "      <td>1</td>\n",
              "      <td>-1</td>\n",
              "      <td>0</td>\n",
              "      <td>unknown</td>\n",
              "      <td>yes</td>\n",
              "    </tr>\n",
              "    <tr>\n",
              "      <th>4</th>\n",
              "      <td>54</td>\n",
              "      <td>admin.</td>\n",
              "      <td>married</td>\n",
              "      <td>tertiary</td>\n",
              "      <td>no</td>\n",
              "      <td>184</td>\n",
              "      <td>no</td>\n",
              "      <td>no</td>\n",
              "      <td>unknown</td>\n",
              "      <td>5</td>\n",
              "      <td>may</td>\n",
              "      <td>2</td>\n",
              "      <td>-1</td>\n",
              "      <td>0</td>\n",
              "      <td>unknown</td>\n",
              "      <td>yes</td>\n",
              "    </tr>\n",
              "  </tbody>\n",
              "</table>\n",
              "</div>"
            ],
            "text/plain": [
              "   age         job  marital  education  ... pdays  previous poutcome deposit\n",
              "0   59      admin.  married  secondary  ...    -1         0  unknown     yes\n",
              "1   56      admin.  married  secondary  ...    -1         0  unknown     yes\n",
              "2   41  technician  married  secondary  ...    -1         0  unknown     yes\n",
              "3   55    services  married  secondary  ...    -1         0  unknown     yes\n",
              "4   54      admin.  married   tertiary  ...    -1         0  unknown     yes\n",
              "\n",
              "[5 rows x 16 columns]"
            ]
          },
          "metadata": {
            "tags": []
          },
          "execution_count": 22
        }
      ]
    },
    {
      "cell_type": "code",
      "metadata": {
        "id": "QChPBOi4BNIA"
      },
      "source": [
        "encoded_df['default']=encoded_df['default'].map({'yes':1,'no':0})\n",
        "encoded_df['housing']=encoded_df['housing'].map({'yes':1,'no':0})\n",
        "encoded_df['loan']=encoded_df['loan'].map({'yes':1,'no':0})\n",
        "encoded_df['deposit']=encoded_df['deposit'].map({'yes':1,'no':0})"
      ],
      "id": "QChPBOi4BNIA",
      "execution_count": 23,
      "outputs": []
    },
    {
      "cell_type": "markdown",
      "metadata": {
        "id": "PTtW5AnsPtSp"
      },
      "source": [
        "The categorical columns containg binary values such as yes and no will be binary encoded by 1 and 0.<br>\n",
        "Next, the remaining categorical columns will be encoded by one hot encoding/get_dummies to get a more robust encoding compared to a Label encoding by integer numbers."
      ],
      "id": "PTtW5AnsPtSp"
    },
    {
      "cell_type": "code",
      "metadata": {
        "id": "EsT4r24ZxzBr"
      },
      "source": [
        "cat_feat = encoded_df.select_dtypes(include=\"object\").columns"
      ],
      "id": "EsT4r24ZxzBr",
      "execution_count": 25,
      "outputs": []
    },
    {
      "cell_type": "code",
      "metadata": {
        "colab": {
          "base_uri": "https://localhost:8080/"
        },
        "id": "YttAbE0pybRJ",
        "outputId": "9d8c1a0c-31bc-4a86-9214-1a3bf857f2ef"
      },
      "source": [
        "cat_feat"
      ],
      "id": "YttAbE0pybRJ",
      "execution_count": 26,
      "outputs": [
        {
          "output_type": "execute_result",
          "data": {
            "text/plain": [
              "Index(['job', 'marital', 'education', 'contact', 'month', 'poutcome'], dtype='object')"
            ]
          },
          "metadata": {
            "tags": []
          },
          "execution_count": 26
        }
      ]
    },
    {
      "cell_type": "markdown",
      "metadata": {
        "id": "RFHDEu1Iyjo1"
      },
      "source": [
        "These categorical featurs will be encoded by one hot encoding."
      ],
      "id": "RFHDEu1Iyjo1"
    },
    {
      "cell_type": "code",
      "metadata": {
        "id": "DZdPCkUubmE4"
      },
      "source": [
        "encoded_df2 = pd.get_dummies(encoded_df, drop_first=True)"
      ],
      "id": "DZdPCkUubmE4",
      "execution_count": 66,
      "outputs": []
    },
    {
      "cell_type": "code",
      "metadata": {
        "colab": {
          "base_uri": "https://localhost:8080/",
          "height": 243
        },
        "id": "rI1WY4hYbsp9",
        "outputId": "cca882c5-391c-4467-a591-961a1f21d604"
      },
      "source": [
        "encoded_df2.head()"
      ],
      "id": "rI1WY4hYbsp9",
      "execution_count": 67,
      "outputs": [
        {
          "output_type": "execute_result",
          "data": {
            "text/html": [
              "<div>\n",
              "<style scoped>\n",
              "    .dataframe tbody tr th:only-of-type {\n",
              "        vertical-align: middle;\n",
              "    }\n",
              "\n",
              "    .dataframe tbody tr th {\n",
              "        vertical-align: top;\n",
              "    }\n",
              "\n",
              "    .dataframe thead th {\n",
              "        text-align: right;\n",
              "    }\n",
              "</style>\n",
              "<table border=\"1\" class=\"dataframe\">\n",
              "  <thead>\n",
              "    <tr style=\"text-align: right;\">\n",
              "      <th></th>\n",
              "      <th>age</th>\n",
              "      <th>default</th>\n",
              "      <th>balance</th>\n",
              "      <th>housing</th>\n",
              "      <th>loan</th>\n",
              "      <th>day</th>\n",
              "      <th>campaign</th>\n",
              "      <th>pdays</th>\n",
              "      <th>previous</th>\n",
              "      <th>deposit</th>\n",
              "      <th>job_blue-collar</th>\n",
              "      <th>job_entrepreneur</th>\n",
              "      <th>job_housemaid</th>\n",
              "      <th>job_management</th>\n",
              "      <th>job_retired</th>\n",
              "      <th>job_self-employed</th>\n",
              "      <th>job_services</th>\n",
              "      <th>job_student</th>\n",
              "      <th>job_technician</th>\n",
              "      <th>job_unemployed</th>\n",
              "      <th>job_unknown</th>\n",
              "      <th>marital_married</th>\n",
              "      <th>marital_single</th>\n",
              "      <th>education_secondary</th>\n",
              "      <th>education_tertiary</th>\n",
              "      <th>education_unknown</th>\n",
              "      <th>contact_telephone</th>\n",
              "      <th>contact_unknown</th>\n",
              "      <th>month_aug</th>\n",
              "      <th>month_dec</th>\n",
              "      <th>month_feb</th>\n",
              "      <th>month_jan</th>\n",
              "      <th>month_jul</th>\n",
              "      <th>month_jun</th>\n",
              "      <th>month_mar</th>\n",
              "      <th>month_may</th>\n",
              "      <th>month_nov</th>\n",
              "      <th>month_oct</th>\n",
              "      <th>month_sep</th>\n",
              "      <th>poutcome_other</th>\n",
              "      <th>poutcome_success</th>\n",
              "      <th>poutcome_unknown</th>\n",
              "    </tr>\n",
              "  </thead>\n",
              "  <tbody>\n",
              "    <tr>\n",
              "      <th>0</th>\n",
              "      <td>59</td>\n",
              "      <td>0</td>\n",
              "      <td>2343</td>\n",
              "      <td>1</td>\n",
              "      <td>0</td>\n",
              "      <td>5</td>\n",
              "      <td>1</td>\n",
              "      <td>-1</td>\n",
              "      <td>0</td>\n",
              "      <td>1</td>\n",
              "      <td>0</td>\n",
              "      <td>0</td>\n",
              "      <td>0</td>\n",
              "      <td>0</td>\n",
              "      <td>0</td>\n",
              "      <td>0</td>\n",
              "      <td>0</td>\n",
              "      <td>0</td>\n",
              "      <td>0</td>\n",
              "      <td>0</td>\n",
              "      <td>0</td>\n",
              "      <td>1</td>\n",
              "      <td>0</td>\n",
              "      <td>1</td>\n",
              "      <td>0</td>\n",
              "      <td>0</td>\n",
              "      <td>0</td>\n",
              "      <td>1</td>\n",
              "      <td>0</td>\n",
              "      <td>0</td>\n",
              "      <td>0</td>\n",
              "      <td>0</td>\n",
              "      <td>0</td>\n",
              "      <td>0</td>\n",
              "      <td>0</td>\n",
              "      <td>1</td>\n",
              "      <td>0</td>\n",
              "      <td>0</td>\n",
              "      <td>0</td>\n",
              "      <td>0</td>\n",
              "      <td>0</td>\n",
              "      <td>1</td>\n",
              "    </tr>\n",
              "    <tr>\n",
              "      <th>1</th>\n",
              "      <td>56</td>\n",
              "      <td>0</td>\n",
              "      <td>45</td>\n",
              "      <td>0</td>\n",
              "      <td>0</td>\n",
              "      <td>5</td>\n",
              "      <td>1</td>\n",
              "      <td>-1</td>\n",
              "      <td>0</td>\n",
              "      <td>1</td>\n",
              "      <td>0</td>\n",
              "      <td>0</td>\n",
              "      <td>0</td>\n",
              "      <td>0</td>\n",
              "      <td>0</td>\n",
              "      <td>0</td>\n",
              "      <td>0</td>\n",
              "      <td>0</td>\n",
              "      <td>0</td>\n",
              "      <td>0</td>\n",
              "      <td>0</td>\n",
              "      <td>1</td>\n",
              "      <td>0</td>\n",
              "      <td>1</td>\n",
              "      <td>0</td>\n",
              "      <td>0</td>\n",
              "      <td>0</td>\n",
              "      <td>1</td>\n",
              "      <td>0</td>\n",
              "      <td>0</td>\n",
              "      <td>0</td>\n",
              "      <td>0</td>\n",
              "      <td>0</td>\n",
              "      <td>0</td>\n",
              "      <td>0</td>\n",
              "      <td>1</td>\n",
              "      <td>0</td>\n",
              "      <td>0</td>\n",
              "      <td>0</td>\n",
              "      <td>0</td>\n",
              "      <td>0</td>\n",
              "      <td>1</td>\n",
              "    </tr>\n",
              "    <tr>\n",
              "      <th>2</th>\n",
              "      <td>41</td>\n",
              "      <td>0</td>\n",
              "      <td>1270</td>\n",
              "      <td>1</td>\n",
              "      <td>0</td>\n",
              "      <td>5</td>\n",
              "      <td>1</td>\n",
              "      <td>-1</td>\n",
              "      <td>0</td>\n",
              "      <td>1</td>\n",
              "      <td>0</td>\n",
              "      <td>0</td>\n",
              "      <td>0</td>\n",
              "      <td>0</td>\n",
              "      <td>0</td>\n",
              "      <td>0</td>\n",
              "      <td>0</td>\n",
              "      <td>0</td>\n",
              "      <td>1</td>\n",
              "      <td>0</td>\n",
              "      <td>0</td>\n",
              "      <td>1</td>\n",
              "      <td>0</td>\n",
              "      <td>1</td>\n",
              "      <td>0</td>\n",
              "      <td>0</td>\n",
              "      <td>0</td>\n",
              "      <td>1</td>\n",
              "      <td>0</td>\n",
              "      <td>0</td>\n",
              "      <td>0</td>\n",
              "      <td>0</td>\n",
              "      <td>0</td>\n",
              "      <td>0</td>\n",
              "      <td>0</td>\n",
              "      <td>1</td>\n",
              "      <td>0</td>\n",
              "      <td>0</td>\n",
              "      <td>0</td>\n",
              "      <td>0</td>\n",
              "      <td>0</td>\n",
              "      <td>1</td>\n",
              "    </tr>\n",
              "    <tr>\n",
              "      <th>3</th>\n",
              "      <td>55</td>\n",
              "      <td>0</td>\n",
              "      <td>2476</td>\n",
              "      <td>1</td>\n",
              "      <td>0</td>\n",
              "      <td>5</td>\n",
              "      <td>1</td>\n",
              "      <td>-1</td>\n",
              "      <td>0</td>\n",
              "      <td>1</td>\n",
              "      <td>0</td>\n",
              "      <td>0</td>\n",
              "      <td>0</td>\n",
              "      <td>0</td>\n",
              "      <td>0</td>\n",
              "      <td>0</td>\n",
              "      <td>1</td>\n",
              "      <td>0</td>\n",
              "      <td>0</td>\n",
              "      <td>0</td>\n",
              "      <td>0</td>\n",
              "      <td>1</td>\n",
              "      <td>0</td>\n",
              "      <td>1</td>\n",
              "      <td>0</td>\n",
              "      <td>0</td>\n",
              "      <td>0</td>\n",
              "      <td>1</td>\n",
              "      <td>0</td>\n",
              "      <td>0</td>\n",
              "      <td>0</td>\n",
              "      <td>0</td>\n",
              "      <td>0</td>\n",
              "      <td>0</td>\n",
              "      <td>0</td>\n",
              "      <td>1</td>\n",
              "      <td>0</td>\n",
              "      <td>0</td>\n",
              "      <td>0</td>\n",
              "      <td>0</td>\n",
              "      <td>0</td>\n",
              "      <td>1</td>\n",
              "    </tr>\n",
              "    <tr>\n",
              "      <th>4</th>\n",
              "      <td>54</td>\n",
              "      <td>0</td>\n",
              "      <td>184</td>\n",
              "      <td>0</td>\n",
              "      <td>0</td>\n",
              "      <td>5</td>\n",
              "      <td>2</td>\n",
              "      <td>-1</td>\n",
              "      <td>0</td>\n",
              "      <td>1</td>\n",
              "      <td>0</td>\n",
              "      <td>0</td>\n",
              "      <td>0</td>\n",
              "      <td>0</td>\n",
              "      <td>0</td>\n",
              "      <td>0</td>\n",
              "      <td>0</td>\n",
              "      <td>0</td>\n",
              "      <td>0</td>\n",
              "      <td>0</td>\n",
              "      <td>0</td>\n",
              "      <td>1</td>\n",
              "      <td>0</td>\n",
              "      <td>0</td>\n",
              "      <td>1</td>\n",
              "      <td>0</td>\n",
              "      <td>0</td>\n",
              "      <td>1</td>\n",
              "      <td>0</td>\n",
              "      <td>0</td>\n",
              "      <td>0</td>\n",
              "      <td>0</td>\n",
              "      <td>0</td>\n",
              "      <td>0</td>\n",
              "      <td>0</td>\n",
              "      <td>1</td>\n",
              "      <td>0</td>\n",
              "      <td>0</td>\n",
              "      <td>0</td>\n",
              "      <td>0</td>\n",
              "      <td>0</td>\n",
              "      <td>1</td>\n",
              "    </tr>\n",
              "  </tbody>\n",
              "</table>\n",
              "</div>"
            ],
            "text/plain": [
              "   age  default  balance  ...  poutcome_other  poutcome_success  poutcome_unknown\n",
              "0   59        0     2343  ...               0                 0                 1\n",
              "1   56        0       45  ...               0                 0                 1\n",
              "2   41        0     1270  ...               0                 0                 1\n",
              "3   55        0     2476  ...               0                 0                 1\n",
              "4   54        0      184  ...               0                 0                 1\n",
              "\n",
              "[5 rows x 42 columns]"
            ]
          },
          "metadata": {
            "tags": []
          },
          "execution_count": 67
        }
      ]
    },
    {
      "cell_type": "code",
      "metadata": {
        "id": "UeOmtpGrb0WG"
      },
      "source": [
        "X = encoded_df2.drop('deposit', axis=1)\n",
        "y = encoded_df2['deposit']"
      ],
      "id": "UeOmtpGrb0WG",
      "execution_count": 68,
      "outputs": []
    },
    {
      "cell_type": "code",
      "metadata": {
        "id": "846fb3be"
      },
      "source": [
        "from sklearn.model_selection import train_test_split\n",
        "X_train, X_test, y_train, y_test = train_test_split(X, y, test_size = 0.3)"
      ],
      "id": "846fb3be",
      "execution_count": 69,
      "outputs": []
    },
    {
      "cell_type": "code",
      "metadata": {
        "id": "ff4e7f15",
        "colab": {
          "base_uri": "https://localhost:8080/"
        },
        "outputId": "397fa15e-22b3-467a-b856-69f428621bae"
      },
      "source": [
        "y_train.sum()"
      ],
      "id": "ff4e7f15",
      "execution_count": 70,
      "outputs": [
        {
          "output_type": "execute_result",
          "data": {
            "text/plain": [
              "3706"
            ]
          },
          "metadata": {
            "tags": []
          },
          "execution_count": 70
        }
      ]
    },
    {
      "cell_type": "code",
      "metadata": {
        "id": "5daba518",
        "colab": {
          "base_uri": "https://localhost:8080/"
        },
        "outputId": "fff28a3b-a84a-41c8-b2d9-12d1182749c9"
      },
      "source": [
        "y_test.sum()"
      ],
      "id": "5daba518",
      "execution_count": 71,
      "outputs": [
        {
          "output_type": "execute_result",
          "data": {
            "text/plain": [
              "1583"
            ]
          },
          "metadata": {
            "tags": []
          },
          "execution_count": 71
        }
      ]
    },
    {
      "cell_type": "code",
      "metadata": {
        "id": "e11dd600"
      },
      "source": [
        "from sklearn.preprocessing import MinMaxScaler, StandardScaler, RobustScaler\n",
        "scaler = MinMaxScaler()"
      ],
      "id": "e11dd600",
      "execution_count": 99,
      "outputs": []
    },
    {
      "cell_type": "code",
      "metadata": {
        "id": "a9348377",
        "colab": {
          "base_uri": "https://localhost:8080/"
        },
        "outputId": "05ee18a7-5cb6-4015-fbcc-7a5511e54e7b"
      },
      "source": [
        "scaler.fit(X_train)"
      ],
      "id": "a9348377",
      "execution_count": 100,
      "outputs": [
        {
          "output_type": "execute_result",
          "data": {
            "text/plain": [
              "MinMaxScaler(copy=True, feature_range=(0, 1))"
            ]
          },
          "metadata": {
            "tags": []
          },
          "execution_count": 100
        }
      ]
    },
    {
      "cell_type": "code",
      "metadata": {
        "id": "809b1a98"
      },
      "source": [
        "X_train = scaler.transform(X_train)          \n",
        "X_test = scaler.transform(X_test)          "
      ],
      "id": "809b1a98",
      "execution_count": 198,
      "outputs": []
    },
    {
      "cell_type": "markdown",
      "metadata": {
        "id": "38a33ba4"
      },
      "source": [
        "## KNN"
      ],
      "id": "38a33ba4"
    },
    {
      "cell_type": "code",
      "metadata": {
        "id": "9d81c46f"
      },
      "source": [
        "from sklearn.neighbors import KNeighborsClassifier\n",
        "from sklearn.model_selection import GridSearchCV\n",
        "from sklearn.model_selection import RandomizedSearchCV\n",
        "from sklearn.metrics import confusion_matrix, classification_report"
      ],
      "id": "9d81c46f",
      "execution_count": 199,
      "outputs": []
    },
    {
      "cell_type": "code",
      "metadata": {
        "id": "a198fa1a"
      },
      "source": [
        "param_grid={'n_neighbors' : np.arange(1,30),\n",
        "             'weights' : ['uniform', 'distance'],\n",
        "             'metric' : ['euclidean', 'manhattan','minkowski']\n",
        "             } "
      ],
      "id": "a198fa1a",
      "execution_count": 200,
      "outputs": []
    },
    {
      "cell_type": "code",
      "metadata": {
        "id": "262d8451"
      },
      "source": [
        "knn_model= RandomizedSearchCV(estimator = KNeighborsClassifier(),\n",
        "                      param_distributions = param_grid,\n",
        "                      scoring='roc_auc',\n",
        "                      cv = 10,\n",
        "                      n_jobs=-1)"
      ],
      "id": "262d8451",
      "execution_count": 201,
      "outputs": []
    },
    {
      "cell_type": "code",
      "metadata": {
        "id": "f5e6f4ba",
        "colab": {
          "base_uri": "https://localhost:8080/"
        },
        "outputId": "ab243429-0489-422b-8670-7fa55313107d"
      },
      "source": [
        "knn_model.fit(X_train, y_train)"
      ],
      "id": "f5e6f4ba",
      "execution_count": 202,
      "outputs": [
        {
          "output_type": "execute_result",
          "data": {
            "text/plain": [
              "RandomizedSearchCV(cv=10, error_score=nan,\n",
              "                   estimator=KNeighborsClassifier(algorithm='auto',\n",
              "                                                  leaf_size=30,\n",
              "                                                  metric='minkowski',\n",
              "                                                  metric_params=None,\n",
              "                                                  n_jobs=None, n_neighbors=5,\n",
              "                                                  p=2, weights='uniform'),\n",
              "                   iid='deprecated', n_iter=10, n_jobs=-1,\n",
              "                   param_distributions={'metric': ['euclidean', 'manhattan',\n",
              "                                                   'minkowski'],\n",
              "                                        'n_neighbors': array([ 1,  2,  3,  4,  5,  6,  7,  8,  9, 10, 11, 12, 13, 14, 15, 16, 17,\n",
              "       18, 19, 20, 21, 22, 23, 24, 25, 26, 27, 28, 29]),\n",
              "                                        'weights': ['uniform', 'distance']},\n",
              "                   pre_dispatch='2*n_jobs', random_state=None, refit=True,\n",
              "                   return_train_score=False, scoring='roc_auc', verbose=0)"
            ]
          },
          "metadata": {
            "tags": []
          },
          "execution_count": 202
        }
      ]
    },
    {
      "cell_type": "code",
      "metadata": {
        "id": "2a1d2bdd",
        "colab": {
          "base_uri": "https://localhost:8080/"
        },
        "outputId": "96e77fc3-98df-4008-d551-4fd075db103d"
      },
      "source": [
        "knn_model.best_params_"
      ],
      "id": "2a1d2bdd",
      "execution_count": 203,
      "outputs": [
        {
          "output_type": "execute_result",
          "data": {
            "text/plain": [
              "{'metric': 'minkowski', 'n_neighbors': 28, 'weights': 'uniform'}"
            ]
          },
          "metadata": {
            "tags": []
          },
          "execution_count": 203
        }
      ]
    },
    {
      "cell_type": "code",
      "metadata": {
        "id": "a72891a8",
        "colab": {
          "base_uri": "https://localhost:8080/"
        },
        "outputId": "c9ed7cb0-7b8f-482a-dbc1-af4e9e5e58d0"
      },
      "source": [
        "knn_model.best_score_"
      ],
      "id": "a72891a8",
      "execution_count": 204,
      "outputs": [
        {
          "output_type": "execute_result",
          "data": {
            "text/plain": [
              "0.7546551733946973"
            ]
          },
          "metadata": {
            "tags": []
          },
          "execution_count": 204
        }
      ]
    },
    {
      "cell_type": "code",
      "metadata": {
        "id": "d139cc68"
      },
      "source": [
        "y_pred_knn = knn_model.predict(X_test)"
      ],
      "id": "d139cc68",
      "execution_count": 205,
      "outputs": []
    },
    {
      "cell_type": "code",
      "metadata": {
        "id": "f1ff2ddc",
        "colab": {
          "base_uri": "https://localhost:8080/"
        },
        "outputId": "f7bb630e-cfe1-49df-aeb1-67db4ff8c834"
      },
      "source": [
        "conf_matrix_knn=confusion_matrix(y_pred_knn,y_test)\n",
        "conf_matrix_knn"
      ],
      "id": "f1ff2ddc",
      "execution_count": 206,
      "outputs": [
        {
          "output_type": "execute_result",
          "data": {
            "text/plain": [
              "array([[1468,  692],\n",
              "       [ 298,  891]])"
            ]
          },
          "metadata": {
            "tags": []
          },
          "execution_count": 206
        }
      ]
    },
    {
      "cell_type": "code",
      "metadata": {
        "colab": {
          "base_uri": "https://localhost:8080/",
          "height": 54
        },
        "id": "1o9iKva-_PsI",
        "outputId": "c8a5880c-4633-437f-8a85-9e3b9d0683fe"
      },
      "source": [
        "classification_report(y_pred_knn,y_test)"
      ],
      "id": "1o9iKva-_PsI",
      "execution_count": 207,
      "outputs": [
        {
          "output_type": "execute_result",
          "data": {
            "application/vnd.google.colaboratory.intrinsic+json": {
              "type": "string"
            },
            "text/plain": [
              "'              precision    recall  f1-score   support\\n\\n           0       0.83      0.68      0.75      2160\\n           1       0.56      0.75      0.64      1189\\n\\n    accuracy                           0.70      3349\\n   macro avg       0.70      0.71      0.70      3349\\nweighted avg       0.74      0.70      0.71      3349\\n'"
            ]
          },
          "metadata": {
            "tags": []
          },
          "execution_count": 207
        }
      ]
    },
    {
      "cell_type": "markdown",
      "metadata": {
        "id": "SxoiJ12nAyns"
      },
      "source": [
        "              precision    recall  f1-score   support\n",
        "\n",
        "           0       0.79      0.69      0.74      2026\n",
        "           1       0.61      0.73      0.66      1323\n",
        "\n",
        "*       accuracy                           0.71      3349\n",
        "*      macro avg       0.70      0.71      0.70      3349\n",
        "*   weighted avg       0.72      0.71      0.71      3349\n"
      ],
      "id": "SxoiJ12nAyns"
    },
    {
      "cell_type": "markdown",
      "metadata": {
        "id": "K0QaI0dyAhuu"
      },
      "source": [
        "# Logistic Regression"
      ],
      "id": "K0QaI0dyAhuu"
    },
    {
      "cell_type": "code",
      "metadata": {
        "id": "rQK0m0nG_a_P"
      },
      "source": [
        "from sklearn.linear_model import LogisticRegression"
      ],
      "id": "rQK0m0nG_a_P",
      "execution_count": 208,
      "outputs": []
    },
    {
      "cell_type": "code",
      "metadata": {
        "id": "1fHz7nOadF9f"
      },
      "source": [
        "param_grid = {\n",
        "    'C': [0.001, 0.01, 0.1, 1, 10, 100, 1000],\n",
        "    'penalty': ['l1', 'l2'],\n",
        "    'max_iter': list(range(100,800,100)),\n",
        "    'solver': ['newton-cg', 'lbfgs', 'liblinear', 'sag', 'saga']\n",
        "}"
      ],
      "id": "1fHz7nOadF9f",
      "execution_count": 209,
      "outputs": []
    },
    {
      "cell_type": "code",
      "metadata": {
        "id": "wNlBRJjSdLPN"
      },
      "source": [
        "lr_model = RandomizedSearchCV(estimator = LogisticRegression(),\n",
        "                           param_distributions = param_grid, \n",
        "                           scoring = 'accuracy', \n",
        "                           cv = 10,\n",
        "                           n_jobs=-1\n",
        "                           )"
      ],
      "id": "wNlBRJjSdLPN",
      "execution_count": 210,
      "outputs": []
    },
    {
      "cell_type": "code",
      "metadata": {
        "colab": {
          "base_uri": "https://localhost:8080/"
        },
        "id": "of9JxjgA_f6G",
        "outputId": "cdedc1bc-4e1e-4163-f0f1-9a59d839c62e"
      },
      "source": [
        "lr_model.fit(X_train, y_train)"
      ],
      "id": "of9JxjgA_f6G",
      "execution_count": 211,
      "outputs": [
        {
          "output_type": "execute_result",
          "data": {
            "text/plain": [
              "RandomizedSearchCV(cv=10, error_score=nan,\n",
              "                   estimator=LogisticRegression(C=1.0, class_weight=None,\n",
              "                                                dual=False, fit_intercept=True,\n",
              "                                                intercept_scaling=1,\n",
              "                                                l1_ratio=None, max_iter=100,\n",
              "                                                multi_class='auto', n_jobs=None,\n",
              "                                                penalty='l2', random_state=None,\n",
              "                                                solver='lbfgs', tol=0.0001,\n",
              "                                                verbose=0, warm_start=False),\n",
              "                   iid='deprecated', n_iter=10, n_jobs=-1,\n",
              "                   param_distributions={'C': [0.001, 0.01, 0.1, 1, 10, 100,\n",
              "                                              1000],\n",
              "                                        'max_iter': [100, 200, 300, 400, 500,\n",
              "                                                     600, 700],\n",
              "                                        'penalty': ['l1', 'l2'],\n",
              "                                        'solver': ['newton-cg', 'lbfgs',\n",
              "                                                   'liblinear', 'sag',\n",
              "                                                   'saga']},\n",
              "                   pre_dispatch='2*n_jobs', random_state=None, refit=True,\n",
              "                   return_train_score=False, scoring='accuracy', verbose=0)"
            ]
          },
          "metadata": {
            "tags": []
          },
          "execution_count": 211
        }
      ]
    },
    {
      "cell_type": "code",
      "metadata": {
        "colab": {
          "base_uri": "https://localhost:8080/"
        },
        "id": "WlXEpyz3_f9s",
        "outputId": "fbcfbdc2-1ad9-4c43-de89-5dbaf75af50a"
      },
      "source": [
        "lr_model.best_score_"
      ],
      "id": "WlXEpyz3_f9s",
      "execution_count": 212,
      "outputs": [
        {
          "output_type": "execute_result",
          "data": {
            "text/plain": [
              "0.6983240058813706"
            ]
          },
          "metadata": {
            "tags": []
          },
          "execution_count": 212
        }
      ]
    },
    {
      "cell_type": "code",
      "metadata": {
        "id": "mcNYyMkL_0Wt"
      },
      "source": [
        "y_pred_lr = lr_model.predict(X_test)"
      ],
      "id": "mcNYyMkL_0Wt",
      "execution_count": 213,
      "outputs": []
    },
    {
      "cell_type": "code",
      "metadata": {
        "colab": {
          "base_uri": "https://localhost:8080/"
        },
        "id": "FB3W4B1o_0a2",
        "outputId": "40bc7711-58e3-4391-e213-24e9d225e7d3"
      },
      "source": [
        "confusion_matrix(y_test, y_pred_lr)"
      ],
      "id": "FB3W4B1o_0a2",
      "execution_count": 214,
      "outputs": [
        {
          "output_type": "execute_result",
          "data": {
            "text/plain": [
              "array([[1444,  322],\n",
              "       [ 681,  902]])"
            ]
          },
          "metadata": {
            "tags": []
          },
          "execution_count": 214
        }
      ]
    },
    {
      "cell_type": "code",
      "metadata": {
        "colab": {
          "base_uri": "https://localhost:8080/",
          "height": 54
        },
        "id": "qpm1UrSz_0eg",
        "outputId": "6c1bde58-0104-4a12-e085-a1f03e57923a"
      },
      "source": [
        "classification_report(y_test, y_pred_lr)"
      ],
      "id": "qpm1UrSz_0eg",
      "execution_count": 215,
      "outputs": [
        {
          "output_type": "execute_result",
          "data": {
            "application/vnd.google.colaboratory.intrinsic+json": {
              "type": "string"
            },
            "text/plain": [
              "'              precision    recall  f1-score   support\\n\\n           0       0.68      0.82      0.74      1766\\n           1       0.74      0.57      0.64      1583\\n\\n    accuracy                           0.70      3349\\n   macro avg       0.71      0.69      0.69      3349\\nweighted avg       0.71      0.70      0.70      3349\\n'"
            ]
          },
          "metadata": {
            "tags": []
          },
          "execution_count": 215
        }
      ]
    },
    {
      "cell_type": "markdown",
      "metadata": {
        "id": "fwe6fYWtAI9x"
      },
      "source": [
        "              precision    recall  f1-score   support\n",
        "\n",
        "           0       0.68      0.82      0.74      1766\n",
        "           1       0.74      0.58      0.65      1583\n",
        "\n",
        "*    accuracy                           0.70      3349 \n",
        "*      macro avg       0.71      0.70      0.70      3349\n",
        "*   weighted avg       0.71      0.70      0.70      3349\n",
        "\n",
        "\n"
      ],
      "id": "fwe6fYWtAI9x"
    },
    {
      "cell_type": "markdown",
      "metadata": {
        "id": "7066a3db"
      },
      "source": [
        "# Random forest"
      ],
      "id": "7066a3db"
    },
    {
      "cell_type": "code",
      "metadata": {
        "id": "02ffad16"
      },
      "source": [
        "from sklearn.ensemble import RandomForestClassifier"
      ],
      "id": "02ffad16",
      "execution_count": 216,
      "outputs": []
    },
    {
      "cell_type": "code",
      "metadata": {
        "id": "11eb292e"
      },
      "source": [
        "param_grid = {\n",
        "    'bootstrap': [True],\n",
        "    'max_depth': [80, 90, 100, 110],\n",
        "    'max_features': [2, 3],\n",
        "    'min_samples_leaf': [3, 4, 5],\n",
        "    'min_samples_split': [8, 10, 12],\n",
        "    'n_estimators': [100, 200, 300, 1000]\n",
        "}"
      ],
      "id": "11eb292e",
      "execution_count": 217,
      "outputs": []
    },
    {
      "cell_type": "code",
      "metadata": {
        "id": "0tvCi24Hd5WL"
      },
      "source": [
        "rfc = RandomForestClassifier()"
      ],
      "id": "0tvCi24Hd5WL",
      "execution_count": 218,
      "outputs": []
    },
    {
      "cell_type": "code",
      "metadata": {
        "id": "651f0d9d",
        "colab": {
          "base_uri": "https://localhost:8080/"
        },
        "outputId": "215a3ab4-9607-44ad-f769-de082e66e708"
      },
      "source": [
        "from sklearn.model_selection import RandomizedSearchCV\n",
        "rfc_model = RandomizedSearchCV(estimator=rfc, \n",
        "                            param_distributions=param_grid,\n",
        "                            cv= 10,\n",
        "                            n_jobs=-1)\n",
        "rfc_model.fit(X_train, y_train)"
      ],
      "id": "651f0d9d",
      "execution_count": 219,
      "outputs": [
        {
          "output_type": "execute_result",
          "data": {
            "text/plain": [
              "RandomizedSearchCV(cv=10, error_score=nan,\n",
              "                   estimator=RandomForestClassifier(bootstrap=True,\n",
              "                                                    ccp_alpha=0.0,\n",
              "                                                    class_weight=None,\n",
              "                                                    criterion='gini',\n",
              "                                                    max_depth=None,\n",
              "                                                    max_features='auto',\n",
              "                                                    max_leaf_nodes=None,\n",
              "                                                    max_samples=None,\n",
              "                                                    min_impurity_decrease=0.0,\n",
              "                                                    min_impurity_split=None,\n",
              "                                                    min_samples_leaf=1,\n",
              "                                                    min_samples_split=2,\n",
              "                                                    min_weight_fraction_leaf=0.0,\n",
              "                                                    n_estimators=100,\n",
              "                                                    n_job...\n",
              "                                                    random_state=None,\n",
              "                                                    verbose=0,\n",
              "                                                    warm_start=False),\n",
              "                   iid='deprecated', n_iter=10, n_jobs=-1,\n",
              "                   param_distributions={'bootstrap': [True],\n",
              "                                        'max_depth': [80, 90, 100, 110],\n",
              "                                        'max_features': [2, 3],\n",
              "                                        'min_samples_leaf': [3, 4, 5],\n",
              "                                        'min_samples_split': [8, 10, 12],\n",
              "                                        'n_estimators': [100, 200, 300, 1000]},\n",
              "                   pre_dispatch='2*n_jobs', random_state=None, refit=True,\n",
              "                   return_train_score=False, scoring=None, verbose=0)"
            ]
          },
          "metadata": {
            "tags": []
          },
          "execution_count": 219
        }
      ]
    },
    {
      "cell_type": "code",
      "metadata": {
        "id": "d229a0e0",
        "colab": {
          "base_uri": "https://localhost:8080/"
        },
        "outputId": "d105fd15-daa8-4847-a376-1bffe9880151"
      },
      "source": [
        "rfc_model.best_params_"
      ],
      "id": "d229a0e0",
      "execution_count": 220,
      "outputs": [
        {
          "output_type": "execute_result",
          "data": {
            "text/plain": [
              "{'bootstrap': True,\n",
              " 'max_depth': 90,\n",
              " 'max_features': 3,\n",
              " 'min_samples_leaf': 3,\n",
              " 'min_samples_split': 8,\n",
              " 'n_estimators': 1000}"
            ]
          },
          "metadata": {
            "tags": []
          },
          "execution_count": 220
        }
      ]
    },
    {
      "cell_type": "code",
      "metadata": {
        "id": "82ebbc9b"
      },
      "source": [
        "y_pred_rfc = rfc_model.predict(X_test)"
      ],
      "id": "82ebbc9b",
      "execution_count": 221,
      "outputs": []
    },
    {
      "cell_type": "code",
      "metadata": {
        "id": "1e4d16ea",
        "colab": {
          "base_uri": "https://localhost:8080/"
        },
        "outputId": "f072284c-6d54-4c00-94ff-13afbd6184ef"
      },
      "source": [
        "rfc_model.best_score_"
      ],
      "id": "1e4d16ea",
      "execution_count": 222,
      "outputs": [
        {
          "output_type": "execute_result",
          "data": {
            "text/plain": [
              "0.7260959619610245"
            ]
          },
          "metadata": {
            "tags": []
          },
          "execution_count": 222
        }
      ]
    },
    {
      "cell_type": "code",
      "metadata": {
        "colab": {
          "base_uri": "https://localhost:8080/"
        },
        "id": "uidGKwjAgCCv",
        "outputId": "054636a6-d298-420e-f8ad-cfd3bd9e126c"
      },
      "source": [
        "confusion_matrix(y_test, y_pred_rfc)"
      ],
      "id": "uidGKwjAgCCv",
      "execution_count": 223,
      "outputs": [
        {
          "output_type": "execute_result",
          "data": {
            "text/plain": [
              "array([[1491,  275],\n",
              "       [ 613,  970]])"
            ]
          },
          "metadata": {
            "tags": []
          },
          "execution_count": 223
        }
      ]
    },
    {
      "cell_type": "code",
      "metadata": {
        "id": "b3fde7c2",
        "colab": {
          "base_uri": "https://localhost:8080/",
          "height": 54
        },
        "outputId": "94f7bcdc-b1a0-4178-d64d-b60c6c2e3602"
      },
      "source": [
        "classification_report(y_test, y_pred_rfc)"
      ],
      "id": "b3fde7c2",
      "execution_count": 224,
      "outputs": [
        {
          "output_type": "execute_result",
          "data": {
            "application/vnd.google.colaboratory.intrinsic+json": {
              "type": "string"
            },
            "text/plain": [
              "'              precision    recall  f1-score   support\\n\\n           0       0.71      0.84      0.77      1766\\n           1       0.78      0.61      0.69      1583\\n\\n    accuracy                           0.73      3349\\n   macro avg       0.74      0.73      0.73      3349\\nweighted avg       0.74      0.73      0.73      3349\\n'"
            ]
          },
          "metadata": {
            "tags": []
          },
          "execution_count": 224
        }
      ]
    },
    {
      "cell_type": "markdown",
      "metadata": {
        "id": "sBT0UuwqglRn"
      },
      "source": [
        "              precision    recall  f1-score   support\n",
        "\n",
        "           0       0.71      0.84      0.77      1766\n",
        "           1       0.77      0.61      0.68      1583\n",
        "\n",
        "    accuracy                           0.73      3349\n",
        "   macro avg       0.74      0.73      0.73      3349\n",
        "weighted avg       0.74      0.73      0.73      3349\n"
      ],
      "id": "sBT0UuwqglRn"
    },
    {
      "cell_type": "markdown",
      "metadata": {
        "id": "adf8b571"
      },
      "source": [
        "# XGBOOST"
      ],
      "id": "adf8b571"
    },
    {
      "cell_type": "code",
      "metadata": {
        "id": "e5408e78"
      },
      "source": [
        "import xgboost as xgb"
      ],
      "id": "e5408e78",
      "execution_count": 226,
      "outputs": []
    },
    {
      "cell_type": "code",
      "metadata": {
        "id": "fac2e3b5"
      },
      "source": [
        "# Create the parameter grid\n",
        "param_grid = {\n",
        "    'learning_rate': np.arange(0.01, 0.5, 0.001),\n",
        "    'max_depth': np.arange(3, 30, 2),\n",
        "    'n_estimators': np.arange(10, 200, 10)\n",
        "}"
      ],
      "id": "fac2e3b5",
      "execution_count": 227,
      "outputs": []
    },
    {
      "cell_type": "code",
      "metadata": {
        "id": "ede6d78d"
      },
      "source": [
        "xgb_model = xgb.XGBClassifier()"
      ],
      "id": "ede6d78d",
      "execution_count": 228,
      "outputs": []
    },
    {
      "cell_type": "code",
      "metadata": {
        "id": "bff6b580"
      },
      "source": [
        "from sklearn.model_selection import RandomizedSearchCV\n",
        "rand_neg_mse = RandomizedSearchCV(estimator=xgb_model, \n",
        "                                  param_distributions=param_grid, \n",
        "                                  cv=10)"
      ],
      "id": "bff6b580",
      "execution_count": 229,
      "outputs": []
    },
    {
      "cell_type": "code",
      "metadata": {
        "id": "f08e5450",
        "colab": {
          "base_uri": "https://localhost:8080/"
        },
        "outputId": "2bec7c55-5f87-45b5-cc6c-a198c500a5ad"
      },
      "source": [
        "xgb_model.fit(X_train, y_train)"
      ],
      "id": "f08e5450",
      "execution_count": 230,
      "outputs": [
        {
          "output_type": "execute_result",
          "data": {
            "text/plain": [
              "XGBClassifier(base_score=0.5, booster='gbtree', colsample_bylevel=1,\n",
              "              colsample_bynode=1, colsample_bytree=1, gamma=0,\n",
              "              learning_rate=0.1, max_delta_step=0, max_depth=3,\n",
              "              min_child_weight=1, missing=None, n_estimators=100, n_jobs=1,\n",
              "              nthread=None, objective='binary:logistic', random_state=0,\n",
              "              reg_alpha=0, reg_lambda=1, scale_pos_weight=1, seed=None,\n",
              "              silent=None, subsample=1, verbosity=1)"
            ]
          },
          "metadata": {
            "tags": []
          },
          "execution_count": 230
        }
      ]
    },
    {
      "cell_type": "code",
      "metadata": {
        "id": "82534485"
      },
      "source": [
        "y_pred_xgb = xgb_model.predict(X_test)"
      ],
      "id": "82534485",
      "execution_count": 231,
      "outputs": []
    },
    {
      "cell_type": "code",
      "metadata": {
        "id": "f3794f11",
        "colab": {
          "base_uri": "https://localhost:8080/"
        },
        "outputId": "98ef610d-4003-4a73-b0ea-f33b9785265b"
      },
      "source": [
        "confusion_matrix(y_pred_xgb,y_test)"
      ],
      "id": "f3794f11",
      "execution_count": 232,
      "outputs": [
        {
          "output_type": "execute_result",
          "data": {
            "text/plain": [
              "array([[1503,  622],\n",
              "       [ 263,  961]])"
            ]
          },
          "metadata": {
            "tags": []
          },
          "execution_count": 232
        }
      ]
    },
    {
      "cell_type": "code",
      "metadata": {
        "id": "93028c68",
        "colab": {
          "base_uri": "https://localhost:8080/",
          "height": 54
        },
        "outputId": "1d1d15c7-559c-4e6d-fa46-ac7be7adcc6f"
      },
      "source": [
        "classification_report(y_pred_xgb,y_test)"
      ],
      "id": "93028c68",
      "execution_count": 233,
      "outputs": [
        {
          "output_type": "execute_result",
          "data": {
            "application/vnd.google.colaboratory.intrinsic+json": {
              "type": "string"
            },
            "text/plain": [
              "'              precision    recall  f1-score   support\\n\\n           0       0.85      0.71      0.77      2125\\n           1       0.61      0.79      0.68      1224\\n\\n    accuracy                           0.74      3349\\n   macro avg       0.73      0.75      0.73      3349\\nweighted avg       0.76      0.74      0.74      3349\\n'"
            ]
          },
          "metadata": {
            "tags": []
          },
          "execution_count": 233
        }
      ]
    },
    {
      "cell_type": "markdown",
      "metadata": {
        "id": "GbEuNWCrgv7h"
      },
      "source": [
        "              precision    recall  f1-score   support\n",
        "\n",
        "           0       0.85      0.71      0.77      2125\n",
        "           1       0.61      0.79      0.68      1224\n",
        "\n",
        "*       accuracy                           0.74      3349\n",
        "*     macro avg       0.73      0.75      0.73      3349\n",
        "*    weighted avg       0.76      0.74      0.74      3349\n"
      ],
      "id": "GbEuNWCrgv7h"
    },
    {
      "cell_type": "markdown",
      "metadata": {
        "id": "L0QSQPGqXqM6"
      },
      "source": [
        "# Results comparison"
      ],
      "id": "L0QSQPGqXqM6"
    },
    {
      "cell_type": "code",
      "metadata": {
        "colab": {
          "base_uri": "https://localhost:8080/",
          "height": 369
        },
        "id": "fr55RcASWqAh",
        "outputId": "f1aef769-232c-458a-8990-6c71c2ca84f1"
      },
      "source": [
        "fig, ax_arr = plt.subplots(nrows = 1, ncols = 4, figsize = (16, 5))\n",
        "\n",
        "\n",
        "#KNN----------------------\n",
        "probs = knn_model.predict_proba(X_test)\n",
        "preds = probs[:,1]\n",
        "fprknn, tprknn, thresholdknn = metrics.roc_curve(y_test, preds)\n",
        "roc_aucknn = metrics.auc(fprknn, tprknn)\n",
        "\n",
        "ax_arr[0].plot(fprknn, tprknn, 'b', label = 'AUC = %0.2f' % roc_aucknn)\n",
        "ax_arr[0].plot([0, 1], [0, 1],'r--')\n",
        "ax_arr[0].set_title('ROC KNN ',fontsize=20)\n",
        "ax_arr[0].set_ylabel('True Positive Rate',fontsize=15)\n",
        "ax_arr[0].set_xlabel('False Positive Rate',fontsize=15)\n",
        "ax_arr[0].legend(loc = 'lower right', prop={'size': 15})\n",
        "\n",
        "#LOGMODEL\n",
        "probs = lr_model.predict_proba(X_test)\n",
        "preds = probs[:,1]\n",
        "fprlog, tprlog, thresholdlog = metrics.roc_curve(y_test,preds)\n",
        "roc_auclog = metrics.auc(fprlog, tprlog)\n",
        "\n",
        "ax_arr[1].plot(fprlog, tprlog, 'b', label = 'AUC = %0.2f' % roc_auclog)\n",
        "ax_arr[1].plot([0, 1], [0, 1],'r--')\n",
        "ax_arr[1].set_title('ROC Logistic Reg. ',fontsize=20)\n",
        "ax_arr[1].set_ylabel('True Positive Rate',fontsize=15)\n",
        "ax_arr[1].set_xlabel('False Positive Rate',fontsize=15)\n",
        "ax_arr[1].legend(loc = 'lower right', prop={'size': 15})\n",
        "\n",
        "#RANDOM FOREST --------------------\n",
        "probs = rfc_model.predict_proba(X_test)\n",
        "preds = probs[:,1]\n",
        "fprrfc, tprrfc, thresholdrfc = metrics.roc_curve(y_test, preds)\n",
        "roc_aucrfc = metrics.auc(fprrfc, tprrfc)\n",
        "\n",
        "ax_arr[2].plot(fprrfc, tprrfc, 'b', label = 'AUC = %0.2f' % roc_aucrfc)\n",
        "ax_arr[2].plot([0, 1], [0, 1],'r--')\n",
        "ax_arr[2].set_title('ROC Random Forest ',fontsize=20)\n",
        "ax_arr[2].set_ylabel('True Positive Rate',fontsize=15)\n",
        "ax_arr[2].set_xlabel('False Positive Rate',fontsize=15)\n",
        "ax_arr[2].legend(loc = 'lower right', prop={'size': 15})\n",
        "\n",
        "#XGBOOST ---------------------\n",
        "probs = xgb_model.predict_proba(X_test)\n",
        "preds = probs[:,1]\n",
        "fprdtree, tprdtree, thresholddtree = metrics.roc_curve(y_test, preds)\n",
        "roc_aucdtree = metrics.auc(fprdtree, tprdtree)\n",
        "\n",
        "ax_arr[3].plot(fprdtree, tprdtree, 'b', label = 'AUC = %0.2f' % roc_aucdtree)\n",
        "ax_arr[3].plot([0, 1], [0, 1],'r--')\n",
        "ax_arr[3].set_title('ROC XGBoost ',fontsize=20)\n",
        "ax_arr[3].set_ylabel('True Positive Rate',fontsize=15)\n",
        "ax_arr[3].set_xlabel('False Positive Rate',fontsize=15)\n",
        "ax_arr[3].legend(loc = 'lower right', prop={'size': 15})\n",
        "\n",
        "#plt.subplots_adjust(wspace=0.2)\n",
        "plt.tight_layout() "
      ],
      "id": "fr55RcASWqAh",
      "execution_count": 260,
      "outputs": [
        {
          "output_type": "display_data",
          "data": {
            "image/png": "[encoded data removed]",
            "text/plain": [
              "<Figure size 1152x360 with 4 Axes>"
            ]
          },
          "metadata": {
            "tags": [],
            "needs_background": "light"
          }
        }
      ]
    },
    {
      "cell_type": "code",
      "metadata": {
        "colab": {
          "base_uri": "https://localhost:8080/",
          "height": 436
        },
        "id": "3UJa1EZAca32",
        "outputId": "2fb7e4bb-eabf-45fd-a4e4-774bb3eee6e6"
      },
      "source": [
        "#ALL PLOTS ----------------------------------\n",
        "fig = plt.figure(figsize=(6,6))\n",
        "plt.plot(fprdtree, tprdtree, 'b', label = 'XGBoost', color='blue')\n",
        "plt.plot(fprknn, tprknn, 'b', label = 'KNN', color='brown')\n",
        "plt.plot(fprrfc, tprrfc, 'b', label = 'Random Forest', color='green')\n",
        "plt.plot(fprlog, tprlog, 'b', label = 'Logistic Regression', color='grey')\n",
        "plt.plot([0, 1], [0, 1],'r--')\n",
        "plt.title('ROC Comparison ',fontsize=20)\n",
        "plt.ylabel('True Positive Rate',fontsize=20)\n",
        "plt.xlabel('False Positive Rate',fontsize=20)\n",
        "plt.legend(loc = 'lower right', prop={'size': 14})"
      ],
      "id": "3UJa1EZAca32",
      "execution_count": 274,
      "outputs": [
        {
          "output_type": "execute_result",
          "data": {
            "text/plain": [
              "<matplotlib.legend.Legend at 0x7f072e764950>"
            ]
          },
          "metadata": {
            "tags": []
          },
          "execution_count": 274
        },
        {
          "output_type": "display_data",
          "data": {
            "image/png": "[encoded data removed]",
            "text/plain": [
              "<Figure size 432x432 with 1 Axes>"
            ]
          },
          "metadata": {
            "tags": [],
            "needs_background": "light"
          }
        }
      ]
    }
  ]
}